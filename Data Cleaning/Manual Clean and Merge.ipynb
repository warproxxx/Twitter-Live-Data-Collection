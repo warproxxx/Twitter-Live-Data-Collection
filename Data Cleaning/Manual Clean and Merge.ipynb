{
 "cells": [
  {
   "cell_type": "code",
   "execution_count": 11,
   "metadata": {},
   "outputs": [
    {
     "name": "stdout",
     "output_type": "stream",
     "text": [
      "The autoreload extension is already loaded. To reload it, use:\n",
      "  %reload_ext autoreload\n"
     ]
    }
   ],
   "source": [
    "from processor import liveProcessor, livestorageProcessor, profileProcessor\n",
    "from libs.reading_utils import get_keywords\n",
    "import requests\n",
    "from multiprocessing.pool import Pool\n",
    "from functools import partial\n",
    "\n",
    "%load_ext autoreload\n",
    "%autoreload 2\n",
    "\n",
    "liveKeywords, historicList = get_keywords()"
   ]
  },
  {
   "cell_type": "code",
   "execution_count": 6,
   "metadata": {},
   "outputs": [],
   "source": [
    "lp = liveProcessor(liveKeywords, \"election\")\n",
    "lp.read_merge()\n",
    "lp.clean_data()"
   ]
  },
  {
   "cell_type": "code",
   "execution_count": 10,
   "metadata": {},
   "outputs": [
    {
     "name": "stdout",
     "output_type": "stream",
     "text": [
      "reading file\n",
      "file read. Cleaning\n",
      "cleaned\n",
      "removed\n",
      "reading file\n",
      "file read. Cleaning\n",
      "cleaned\n",
      "removed\n",
      "reading file\n",
      "file read. Cleaning\n",
      "cleaned\n",
      "removed\n"
     ]
    }
   ],
   "source": [
    "lsp = livestorageProcessor(liveKeywords, \"election\")\n",
    "lsp.read_merge()\n",
    "lsp.clean_data()"
   ]
  },
  {
   "cell_type": "code",
   "execution_count": null,
   "metadata": {},
   "outputs": [],
   "source": [
    "pp = profileProcessor(historicList)\n",
    "pp.clean_data()\n",
    "pp.make_unique()"
   ]
  }
 ],
 "metadata": {
  "kernelspec": {
   "display_name": "Python 3.7",
   "language": "python",
   "name": "python3.7"
  },
  "language_info": {
   "codemirror_mode": {
    "name": "ipython",
    "version": 3
   },
   "file_extension": ".py",
   "mimetype": "text/x-python",
   "name": "python",
   "nbconvert_exporter": "python",
   "pygments_lexer": "ipython3",
   "version": "3.7.1"
  }
 },
 "nbformat": 4,
 "nbformat_minor": 2
}
